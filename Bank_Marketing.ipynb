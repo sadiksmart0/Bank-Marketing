{
  "cells": [
    {
      "cell_type": "markdown",
      "metadata": {
        "id": "view-in-github",
        "colab_type": "text"
      },
      "source": [
        "<a href=\"https://colab.research.google.com/github/sadiksmart0/Bank-Marketing/blob/main/Bank_Marketing.ipynb\" target=\"_parent\"><img src=\"https://colab.research.google.com/assets/colab-badge.svg\" alt=\"Open In Colab\"/></a>"
      ]
    },
    {
      "cell_type": "code",
      "execution_count": null,
      "id": "13f204e5",
      "metadata": {
        "id": "13f204e5"
      },
      "outputs": [],
      "source": [
        "\n",
        "##Bank Marketing Data Set\n",
        "##Download: Data Folder, Data Set Description\n",
        "\n",
        "##Abstract: The data is related with direct marketing campaigns (phone calls) of a Portuguese banking institution.\n",
        "#The classification goal is to predict if the client will subscribe a term deposit (variable y)."
      ]
    },
    {
      "cell_type": "code",
      "execution_count": null,
      "id": "42ecb231",
      "metadata": {
        "id": "42ecb231"
      },
      "outputs": [],
      "source": [
        "#IMPORTING DEPENDENCIES\n",
        "import pandas as pd\n",
        "from pyspark.sql import SparkSession\n",
        "import seaborn as sns\n",
        "from pyspark.ml.feature import StringIndexer, OneHotEncoder\n",
        "from pyspark.ml.evaluation import BinaryClassificationEvaluator\n",
        "from pyspark.ml.classification import LogisticRegression\n",
        "from pyspark.ml.feature import OneHotEncoder, StringIndexer, VectorAssembler\n",
        "from pyspark.sql.functions import col\n",
        "from pyspark.ml.feature import StandardScaler"
      ]
    },
    {
      "cell_type": "code",
      "execution_count": null,
      "id": "fa87f583",
      "metadata": {
        "id": "fa87f583"
      },
      "outputs": [],
      "source": [
        "# STARTING A SPARK SESSION\n",
        "spark = SparkSession.builder.getOrCreate()"
      ]
    },
    {
      "cell_type": "code",
      "source": [
        "# MOUNTING DRIVE\n",
        "from google.colab import drive\n",
        "drive.mount('/content/drive')"
      ],
      "metadata": {
        "colab": {
          "base_uri": "https://localhost:8080/"
        },
        "id": "-d1mN5xBUkTW",
        "outputId": "98b8f35e-0fea-47f6-abbb-29e690e5835a"
      },
      "id": "-d1mN5xBUkTW",
      "execution_count": null,
      "outputs": [
        {
          "output_type": "stream",
          "name": "stdout",
          "text": [
            "Mounted at /content/drive\n"
          ]
        }
      ]
    },
    {
      "cell_type": "code",
      "execution_count": null,
      "id": "b41d5954",
      "metadata": {
        "id": "b41d5954"
      },
      "outputs": [],
      "source": [
        "# Loading Dataset\n",
        "df1 = pd.read_csv(\"/content/drive/MyDrive/bank-full.csv\", sep=\";\")"
      ]
    },
    {
      "cell_type": "code",
      "execution_count": null,
      "id": "6dfac9f7",
      "metadata": {
        "colab": {
          "base_uri": "https://localhost:8080/"
        },
        "id": "6dfac9f7",
        "outputId": "57313369-d4e0-4530-9e7d-8a80bb2e7d8a"
      },
      "outputs": [
        {
          "output_type": "execute_result",
          "data": {
            "text/plain": [
              "17"
            ]
          },
          "metadata": {},
          "execution_count": 96
        }
      ],
      "source": [
        "# Number of columns\n",
        "len(df1.columns)"
      ]
    },
    {
      "cell_type": "code",
      "execution_count": null,
      "id": "49305c6f",
      "metadata": {
        "colab": {
          "base_uri": "https://localhost:8080/",
          "height": 250
        },
        "id": "49305c6f",
        "outputId": "765f1d5a-ec24-45eb-fa12-908a78ed88f6"
      },
      "outputs": [
        {
          "output_type": "execute_result",
          "data": {
            "text/plain": [
              "   age           job  marital  education default  balance housing loan  \\\n",
              "0   58    management  married   tertiary      no     2143     yes   no   \n",
              "1   44    technician   single  secondary      no       29     yes   no   \n",
              "2   33  entrepreneur  married  secondary      no        2     yes  yes   \n",
              "3   47   blue-collar  married    unknown      no     1506     yes   no   \n",
              "4   33       unknown   single    unknown      no        1      no   no   \n",
              "\n",
              "   contact  day month  duration  campaign  pdays  previous poutcome   y  \n",
              "0  unknown    5   may       261         1     -1         0  unknown  no  \n",
              "1  unknown    5   may       151         1     -1         0  unknown  no  \n",
              "2  unknown    5   may        76         1     -1         0  unknown  no  \n",
              "3  unknown    5   may        92         1     -1         0  unknown  no  \n",
              "4  unknown    5   may       198         1     -1         0  unknown  no  "
            ],
            "text/html": [
              "\n",
              "  <div id=\"df-8ff050fc-9623-4d5b-99b8-2e329dc104b6\">\n",
              "    <div class=\"colab-df-container\">\n",
              "      <div>\n",
              "<style scoped>\n",
              "    .dataframe tbody tr th:only-of-type {\n",
              "        vertical-align: middle;\n",
              "    }\n",
              "\n",
              "    .dataframe tbody tr th {\n",
              "        vertical-align: top;\n",
              "    }\n",
              "\n",
              "    .dataframe thead th {\n",
              "        text-align: right;\n",
              "    }\n",
              "</style>\n",
              "<table border=\"1\" class=\"dataframe\">\n",
              "  <thead>\n",
              "    <tr style=\"text-align: right;\">\n",
              "      <th></th>\n",
              "      <th>age</th>\n",
              "      <th>job</th>\n",
              "      <th>marital</th>\n",
              "      <th>education</th>\n",
              "      <th>default</th>\n",
              "      <th>balance</th>\n",
              "      <th>housing</th>\n",
              "      <th>loan</th>\n",
              "      <th>contact</th>\n",
              "      <th>day</th>\n",
              "      <th>month</th>\n",
              "      <th>duration</th>\n",
              "      <th>campaign</th>\n",
              "      <th>pdays</th>\n",
              "      <th>previous</th>\n",
              "      <th>poutcome</th>\n",
              "      <th>y</th>\n",
              "    </tr>\n",
              "  </thead>\n",
              "  <tbody>\n",
              "    <tr>\n",
              "      <th>0</th>\n",
              "      <td>58</td>\n",
              "      <td>management</td>\n",
              "      <td>married</td>\n",
              "      <td>tertiary</td>\n",
              "      <td>no</td>\n",
              "      <td>2143</td>\n",
              "      <td>yes</td>\n",
              "      <td>no</td>\n",
              "      <td>unknown</td>\n",
              "      <td>5</td>\n",
              "      <td>may</td>\n",
              "      <td>261</td>\n",
              "      <td>1</td>\n",
              "      <td>-1</td>\n",
              "      <td>0</td>\n",
              "      <td>unknown</td>\n",
              "      <td>no</td>\n",
              "    </tr>\n",
              "    <tr>\n",
              "      <th>1</th>\n",
              "      <td>44</td>\n",
              "      <td>technician</td>\n",
              "      <td>single</td>\n",
              "      <td>secondary</td>\n",
              "      <td>no</td>\n",
              "      <td>29</td>\n",
              "      <td>yes</td>\n",
              "      <td>no</td>\n",
              "      <td>unknown</td>\n",
              "      <td>5</td>\n",
              "      <td>may</td>\n",
              "      <td>151</td>\n",
              "      <td>1</td>\n",
              "      <td>-1</td>\n",
              "      <td>0</td>\n",
              "      <td>unknown</td>\n",
              "      <td>no</td>\n",
              "    </tr>\n",
              "    <tr>\n",
              "      <th>2</th>\n",
              "      <td>33</td>\n",
              "      <td>entrepreneur</td>\n",
              "      <td>married</td>\n",
              "      <td>secondary</td>\n",
              "      <td>no</td>\n",
              "      <td>2</td>\n",
              "      <td>yes</td>\n",
              "      <td>yes</td>\n",
              "      <td>unknown</td>\n",
              "      <td>5</td>\n",
              "      <td>may</td>\n",
              "      <td>76</td>\n",
              "      <td>1</td>\n",
              "      <td>-1</td>\n",
              "      <td>0</td>\n",
              "      <td>unknown</td>\n",
              "      <td>no</td>\n",
              "    </tr>\n",
              "    <tr>\n",
              "      <th>3</th>\n",
              "      <td>47</td>\n",
              "      <td>blue-collar</td>\n",
              "      <td>married</td>\n",
              "      <td>unknown</td>\n",
              "      <td>no</td>\n",
              "      <td>1506</td>\n",
              "      <td>yes</td>\n",
              "      <td>no</td>\n",
              "      <td>unknown</td>\n",
              "      <td>5</td>\n",
              "      <td>may</td>\n",
              "      <td>92</td>\n",
              "      <td>1</td>\n",
              "      <td>-1</td>\n",
              "      <td>0</td>\n",
              "      <td>unknown</td>\n",
              "      <td>no</td>\n",
              "    </tr>\n",
              "    <tr>\n",
              "      <th>4</th>\n",
              "      <td>33</td>\n",
              "      <td>unknown</td>\n",
              "      <td>single</td>\n",
              "      <td>unknown</td>\n",
              "      <td>no</td>\n",
              "      <td>1</td>\n",
              "      <td>no</td>\n",
              "      <td>no</td>\n",
              "      <td>unknown</td>\n",
              "      <td>5</td>\n",
              "      <td>may</td>\n",
              "      <td>198</td>\n",
              "      <td>1</td>\n",
              "      <td>-1</td>\n",
              "      <td>0</td>\n",
              "      <td>unknown</td>\n",
              "      <td>no</td>\n",
              "    </tr>\n",
              "  </tbody>\n",
              "</table>\n",
              "</div>\n",
              "      <button class=\"colab-df-convert\" onclick=\"convertToInteractive('df-8ff050fc-9623-4d5b-99b8-2e329dc104b6')\"\n",
              "              title=\"Convert this dataframe to an interactive table.\"\n",
              "              style=\"display:none;\">\n",
              "        \n",
              "  <svg xmlns=\"http://www.w3.org/2000/svg\" height=\"24px\"viewBox=\"0 0 24 24\"\n",
              "       width=\"24px\">\n",
              "    <path d=\"M0 0h24v24H0V0z\" fill=\"none\"/>\n",
              "    <path d=\"M18.56 5.44l.94 2.06.94-2.06 2.06-.94-2.06-.94-.94-2.06-.94 2.06-2.06.94zm-11 1L8.5 8.5l.94-2.06 2.06-.94-2.06-.94L8.5 2.5l-.94 2.06-2.06.94zm10 10l.94 2.06.94-2.06 2.06-.94-2.06-.94-.94-2.06-.94 2.06-2.06.94z\"/><path d=\"M17.41 7.96l-1.37-1.37c-.4-.4-.92-.59-1.43-.59-.52 0-1.04.2-1.43.59L10.3 9.45l-7.72 7.72c-.78.78-.78 2.05 0 2.83L4 21.41c.39.39.9.59 1.41.59.51 0 1.02-.2 1.41-.59l7.78-7.78 2.81-2.81c.8-.78.8-2.07 0-2.86zM5.41 20L4 18.59l7.72-7.72 1.47 1.35L5.41 20z\"/>\n",
              "  </svg>\n",
              "      </button>\n",
              "      \n",
              "  <style>\n",
              "    .colab-df-container {\n",
              "      display:flex;\n",
              "      flex-wrap:wrap;\n",
              "      gap: 12px;\n",
              "    }\n",
              "\n",
              "    .colab-df-convert {\n",
              "      background-color: #E8F0FE;\n",
              "      border: none;\n",
              "      border-radius: 50%;\n",
              "      cursor: pointer;\n",
              "      display: none;\n",
              "      fill: #1967D2;\n",
              "      height: 32px;\n",
              "      padding: 0 0 0 0;\n",
              "      width: 32px;\n",
              "    }\n",
              "\n",
              "    .colab-df-convert:hover {\n",
              "      background-color: #E2EBFA;\n",
              "      box-shadow: 0px 1px 2px rgba(60, 64, 67, 0.3), 0px 1px 3px 1px rgba(60, 64, 67, 0.15);\n",
              "      fill: #174EA6;\n",
              "    }\n",
              "\n",
              "    [theme=dark] .colab-df-convert {\n",
              "      background-color: #3B4455;\n",
              "      fill: #D2E3FC;\n",
              "    }\n",
              "\n",
              "    [theme=dark] .colab-df-convert:hover {\n",
              "      background-color: #434B5C;\n",
              "      box-shadow: 0px 1px 3px 1px rgba(0, 0, 0, 0.15);\n",
              "      filter: drop-shadow(0px 1px 2px rgba(0, 0, 0, 0.3));\n",
              "      fill: #FFFFFF;\n",
              "    }\n",
              "  </style>\n",
              "\n",
              "      <script>\n",
              "        const buttonEl =\n",
              "          document.querySelector('#df-8ff050fc-9623-4d5b-99b8-2e329dc104b6 button.colab-df-convert');\n",
              "        buttonEl.style.display =\n",
              "          google.colab.kernel.accessAllowed ? 'block' : 'none';\n",
              "\n",
              "        async function convertToInteractive(key) {\n",
              "          const element = document.querySelector('#df-8ff050fc-9623-4d5b-99b8-2e329dc104b6');\n",
              "          const dataTable =\n",
              "            await google.colab.kernel.invokeFunction('convertToInteractive',\n",
              "                                                     [key], {});\n",
              "          if (!dataTable) return;\n",
              "\n",
              "          const docLinkHtml = 'Like what you see? Visit the ' +\n",
              "            '<a target=\"_blank\" href=https://colab.research.google.com/notebooks/data_table.ipynb>data table notebook</a>'\n",
              "            + ' to learn more about interactive tables.';\n",
              "          element.innerHTML = '';\n",
              "          dataTable['output_type'] = 'display_data';\n",
              "          await google.colab.output.renderOutput(dataTable, element);\n",
              "          const docLink = document.createElement('div');\n",
              "          docLink.innerHTML = docLinkHtml;\n",
              "          element.appendChild(docLink);\n",
              "        }\n",
              "      </script>\n",
              "    </div>\n",
              "  </div>\n",
              "  "
            ]
          },
          "metadata": {},
          "execution_count": 97
        }
      ],
      "source": [
        "df1.head()"
      ]
    },
    {
      "cell_type": "code",
      "execution_count": null,
      "id": "4cadfc95",
      "metadata": {
        "colab": {
          "base_uri": "https://localhost:8080/"
        },
        "id": "4cadfc95",
        "outputId": "a2ca5a59-8a7f-4c50-aff0-c89850ab22b9"
      },
      "outputs": [
        {
          "output_type": "execute_result",
          "data": {
            "text/plain": [
              "no     39922\n",
              "yes     5289\n",
              "Name: y, dtype: int64"
            ]
          },
          "metadata": {},
          "execution_count": 98
        }
      ],
      "source": [
        "# Unique Counts of Subscribtion\n",
        "df1[\"y\"].value_counts()"
      ]
    },
    {
      "cell_type": "code",
      "source": [
        "# Slicing \n",
        "df_yes = df1[df1[\"y\"]==\"yes\"]\n",
        "df_no = df1[df1[\"y\"]==\"no\"]\n",
        "len(df_yes)"
      ],
      "metadata": {
        "colab": {
          "base_uri": "https://localhost:8080/"
        },
        "id": "ToTwoobpicsR",
        "outputId": "72a98f1d-933f-4a5e-d02f-368fccc761d3"
      },
      "id": "ToTwoobpicsR",
      "execution_count": null,
      "outputs": [
        {
          "output_type": "execute_result",
          "data": {
            "text/plain": [
              "5289"
            ]
          },
          "metadata": {},
          "execution_count": 99
        }
      ]
    },
    {
      "cell_type": "code",
      "source": [
        "# DOWNSAMPLING OF IMBALANCED DATASET\n",
        "downsampled = df_no.sample(n=len(df_yes), replace=False, random_state=1)"
      ],
      "metadata": {
        "id": "85CcEUoHqjzY"
      },
      "id": "85CcEUoHqjzY",
      "execution_count": null,
      "outputs": []
    },
    {
      "cell_type": "code",
      "source": [
        "# CONCATENATING \n",
        "bank_data = pd.concat([df_yes, downsampled])\n",
        "# SHUFFLING \n",
        "shuffled_bank_data = bank_data.sample(frac=1, random_state=21)\n",
        "len(bank_data)"
      ],
      "metadata": {
        "colab": {
          "base_uri": "https://localhost:8080/"
        },
        "id": "oq3E0aT4qkNU",
        "outputId": "861243be-17a8-4e48-e811-82fcd85e5021"
      },
      "id": "oq3E0aT4qkNU",
      "execution_count": null,
      "outputs": [
        {
          "output_type": "execute_result",
          "data": {
            "text/plain": [
              "10578"
            ]
          },
          "metadata": {},
          "execution_count": 100
        }
      ]
    },
    {
      "cell_type": "code",
      "source": [
        "# DROP UNWANTED COLUMNS\n",
        "bank_final = shuffled_bank_data.drop([\"month\", \"day\", \"contact\"], axis=1)\n",
        "len(bank_final.columns)"
      ],
      "metadata": {
        "colab": {
          "base_uri": "https://localhost:8080/"
        },
        "id": "2--rry9euT-6",
        "outputId": "4077133c-0652-41d9-9a8e-68f6c57fd44c"
      },
      "id": "2--rry9euT-6",
      "execution_count": null,
      "outputs": [
        {
          "output_type": "execute_result",
          "data": {
            "text/plain": [
              "14"
            ]
          },
          "metadata": {},
          "execution_count": 101
        }
      ]
    },
    {
      "cell_type": "code",
      "source": [],
      "metadata": {
        "id": "F8gq_3fdvNoq"
      },
      "id": "F8gq_3fdvNoq",
      "execution_count": null,
      "outputs": []
    },
    {
      "cell_type": "code",
      "execution_count": null,
      "id": "171fecc4",
      "metadata": {
        "colab": {
          "base_uri": "https://localhost:8080/"
        },
        "id": "171fecc4",
        "outputId": "f88eb607-13d1-446c-c2c6-ba070dfd9019"
      },
      "outputs": [
        {
          "output_type": "stream",
          "name": "stderr",
          "text": [
            "/usr/local/lib/python3.9/dist-packages/pyspark/sql/pandas/conversion.py:474: FutureWarning: iteritems is deprecated and will be removed in a future version. Use .items instead.\n",
            "  for column, series in pdf.iteritems():\n",
            "/usr/local/lib/python3.9/dist-packages/pyspark/sql/pandas/conversion.py:486: FutureWarning: iteritems is deprecated and will be removed in a future version. Use .items instead.\n",
            "  for column, series in pdf.iteritems():\n"
          ]
        }
      ],
      "source": [
        "# LOADING SPARK DATAFRAME\n",
        "bank_df = spark.createDataFrame(bank_final)"
      ]
    },
    {
      "cell_type": "code",
      "execution_count": null,
      "id": "790ad872",
      "metadata": {
        "colab": {
          "base_uri": "https://localhost:8080/"
        },
        "id": "790ad872",
        "outputId": "86003de7-0e00-4a0a-88a6-2b9e42801129"
      },
      "outputs": [
        {
          "output_type": "stream",
          "name": "stdout",
          "text": [
            "+---+-------------+--------+---------+-------+-------+-------+----+--------+--------+-----+--------+--------+---+\n",
            "|age|          job| marital|education|default|balance|housing|loan|duration|campaign|pdays|previous|poutcome|  y|\n",
            "+---+-------------+--------+---------+-------+-------+-------+----+--------+--------+-----+--------+--------+---+\n",
            "| 67|    housemaid|divorced|secondary|     no|   5275|     no|  no|     222|       4|   -1|       0| unknown|yes|\n",
            "| 34|   technician| married|secondary|     no|    545|    yes|  no|      96|       4|   -1|       0| unknown| no|\n",
            "| 29|self-employed|  single| tertiary|     no|   1579|     no|  no|     190|       1|   92|       5| success|yes|\n",
            "| 36|  blue-collar|  single|secondary|     no|    366|    yes| yes|    1133|       2|   -1|       0| unknown|yes|\n",
            "| 81|      retired|divorced|  primary|     no|    949|     no|  no|     188|       2|  280|       1|   other|yes|\n",
            "| 34|   technician| married|secondary|     no|    656|    yes|  no|      10|       7|  372|       1|   other| no|\n",
            "| 50|  blue-collar|divorced|secondary|     no|    -54|     no|  no|     513|       3|   -1|       0| unknown| no|\n",
            "| 47|  blue-collar| married|secondary|     no|   4101|    yes|  no|     105|       1|   -1|       0| unknown| no|\n",
            "| 57|self-employed| married| tertiary|    yes|  -3313|    yes| yes|     153|       1|   -1|       0| unknown| no|\n",
            "| 53|       admin.|  single|secondary|     no|   2398|    yes|  no|     317|       1|  180|       2| failure|yes|\n",
            "+---+-------------+--------+---------+-------+-------+-------+----+--------+--------+-----+--------+--------+---+\n",
            "only showing top 10 rows\n",
            "\n"
          ]
        }
      ],
      "source": [
        "# VIEW TOP 10\n",
        "bank_df.show(10)"
      ]
    },
    {
      "cell_type": "code",
      "source": [
        "# DROP EMPTY ROWS\n",
        "bank_final = bank_df.dropna(how=\"any\")"
      ],
      "metadata": {
        "id": "QaXZnUA9wRbO"
      },
      "id": "QaXZnUA9wRbO",
      "execution_count": null,
      "outputs": []
    },
    {
      "cell_type": "code",
      "source": [
        "# VIEW SCHEMA\n",
        "bank_final.printSchema()"
      ],
      "metadata": {
        "colab": {
          "base_uri": "https://localhost:8080/"
        },
        "id": "H66pgLg4e3xY",
        "outputId": "4e592fe4-cecb-4429-9ce8-72894298272e"
      },
      "id": "H66pgLg4e3xY",
      "execution_count": null,
      "outputs": [
        {
          "output_type": "stream",
          "name": "stdout",
          "text": [
            "root\n",
            " |-- age: long (nullable = true)\n",
            " |-- job: string (nullable = true)\n",
            " |-- marital: string (nullable = true)\n",
            " |-- education: string (nullable = true)\n",
            " |-- default: string (nullable = true)\n",
            " |-- balance: long (nullable = true)\n",
            " |-- housing: string (nullable = true)\n",
            " |-- loan: string (nullable = true)\n",
            " |-- duration: long (nullable = true)\n",
            " |-- campaign: long (nullable = true)\n",
            " |-- pdays: long (nullable = true)\n",
            " |-- previous: long (nullable = true)\n",
            " |-- poutcome: string (nullable = true)\n",
            " |-- y: string (nullable = true)\n",
            "\n"
          ]
        }
      ]
    },
    {
      "cell_type": "markdown",
      "source": [
        "#ONE HOT ENCODING CATEGORICAL COLUMNS\n"
      ],
      "metadata": {
        "id": "ObhCcxNncpDr"
      },
      "id": "ObhCcxNncpDr"
    },
    {
      "cell_type": "code",
      "source": [
        "# Selecting of input and Output Columns\n",
        "inputCols = ['job', 'marital', 'education', 'default','housing', 'loan', 'poutcome','y']\n",
        "outputCols = [col+\"_encoded\" for col in inputCols]\n",
        "\n",
        "# Create separate StringIndexer instances for each input column\n",
        "indexers = [StringIndexer(inputCol=col, outputCol=col+\"_Index\") for col in inputCols]\n",
        "\n",
        "# Fit and transform the DataFrame using the indexers\n",
        "indexed = bank_final\n",
        "for indexer in indexers:\n",
        "    indexed = indexer.fit(indexed).transform(indexed)\n",
        "\n",
        "# Create separate OneHotEncoder instances for each input column\n",
        "encoders = [OneHotEncoder(inputCol=col+\"_Index\", outputCol=outputCols[i]) for i, col in enumerate(inputCols)]\n",
        "\n",
        "# Fit and transform the DataFrame using the encoders\n",
        "encoded = indexed\n",
        "for encoder in encoders:\n",
        "    encoded = encoder.fit(encoded).transform(encoded)\n",
        "\n",
        "# # # Drop the indexed columns\n",
        "for col in inputCols:\n",
        "      if col != \"y\":\n",
        "        encoded = encoded.drop(col+\"_Index\")\n",
        "        encoded = encoded.drop(col)\n",
        "\n",
        "# Display the transformed DataFrame\n",
        "encoded.show()"
      ],
      "metadata": {
        "colab": {
          "base_uri": "https://localhost:8080/"
        },
        "id": "ejjQLcQ6wmU0",
        "outputId": "53450ad0-efc1-4c4b-945c-5c0cc0f1fecf"
      },
      "id": "ejjQLcQ6wmU0",
      "execution_count": null,
      "outputs": [
        {
          "output_type": "stream",
          "name": "stdout",
          "text": [
            "+---+-------+--------+--------+-----+--------+---+-------+---------------+---------------+-----------------+---------------+---------------+-------------+----------------+-------------+\n",
            "|age|balance|duration|campaign|pdays|previous|  y|y_Index|    job_encoded|marital_encoded|education_encoded|default_encoded|housing_encoded| loan_encoded|poutcome_encoded|    y_encoded|\n",
            "+---+-------+--------+--------+-----+--------+---+-------+---------------+---------------+-----------------+---------------+---------------+-------------+----------------+-------------+\n",
            "| 67|   5275|     222|       4|   -1|       0|yes|    1.0|(11,[10],[1.0])|      (2,[],[])|    (3,[0],[1.0])|  (1,[0],[1.0])|  (1,[0],[1.0])|(1,[0],[1.0])|   (3,[0],[1.0])|    (1,[],[])|\n",
            "| 34|    545|      96|       4|   -1|       0| no|    0.0| (11,[2],[1.0])|  (2,[0],[1.0])|    (3,[0],[1.0])|  (1,[0],[1.0])|      (1,[],[])|(1,[0],[1.0])|   (3,[0],[1.0])|(1,[0],[1.0])|\n",
            "| 29|   1579|     190|       1|   92|       5|yes|    1.0| (11,[7],[1.0])|  (2,[1],[1.0])|    (3,[1],[1.0])|  (1,[0],[1.0])|  (1,[0],[1.0])|(1,[0],[1.0])|   (3,[2],[1.0])|    (1,[],[])|\n",
            "| 36|    366|    1133|       2|   -1|       0|yes|    1.0| (11,[1],[1.0])|  (2,[1],[1.0])|    (3,[0],[1.0])|  (1,[0],[1.0])|      (1,[],[])|    (1,[],[])|   (3,[0],[1.0])|    (1,[],[])|\n",
            "| 81|    949|     188|       2|  280|       1|yes|    1.0| (11,[5],[1.0])|      (2,[],[])|    (3,[2],[1.0])|  (1,[0],[1.0])|  (1,[0],[1.0])|(1,[0],[1.0])|       (3,[],[])|    (1,[],[])|\n",
            "| 34|    656|      10|       7|  372|       1| no|    0.0| (11,[2],[1.0])|  (2,[0],[1.0])|    (3,[0],[1.0])|  (1,[0],[1.0])|      (1,[],[])|(1,[0],[1.0])|       (3,[],[])|(1,[0],[1.0])|\n",
            "| 50|    -54|     513|       3|   -1|       0| no|    0.0| (11,[1],[1.0])|      (2,[],[])|    (3,[0],[1.0])|  (1,[0],[1.0])|  (1,[0],[1.0])|(1,[0],[1.0])|   (3,[0],[1.0])|(1,[0],[1.0])|\n",
            "| 47|   4101|     105|       1|   -1|       0| no|    0.0| (11,[1],[1.0])|  (2,[0],[1.0])|    (3,[0],[1.0])|  (1,[0],[1.0])|      (1,[],[])|(1,[0],[1.0])|   (3,[0],[1.0])|(1,[0],[1.0])|\n",
            "| 57|  -3313|     153|       1|   -1|       0| no|    0.0| (11,[7],[1.0])|  (2,[0],[1.0])|    (3,[1],[1.0])|      (1,[],[])|      (1,[],[])|    (1,[],[])|   (3,[0],[1.0])|(1,[0],[1.0])|\n",
            "| 53|   2398|     317|       1|  180|       2|yes|    1.0| (11,[3],[1.0])|  (2,[1],[1.0])|    (3,[0],[1.0])|  (1,[0],[1.0])|      (1,[],[])|(1,[0],[1.0])|   (3,[1],[1.0])|    (1,[],[])|\n",
            "| 36|   1352|    2028|       1|   -1|       0|yes|    1.0| (11,[0],[1.0])|  (2,[0],[1.0])|    (3,[1],[1.0])|  (1,[0],[1.0])|  (1,[0],[1.0])|(1,[0],[1.0])|   (3,[0],[1.0])|    (1,[],[])|\n",
            "| 37|    767|     204|       1|   -1|       0| no|    0.0| (11,[0],[1.0])|  (2,[0],[1.0])|    (3,[1],[1.0])|  (1,[0],[1.0])|  (1,[0],[1.0])|    (1,[],[])|   (3,[0],[1.0])|(1,[0],[1.0])|\n",
            "| 36|   9269|     107|       2|   -1|       0| no|    0.0| (11,[0],[1.0])|  (2,[0],[1.0])|    (3,[1],[1.0])|  (1,[0],[1.0])|      (1,[],[])|    (1,[],[])|   (3,[0],[1.0])|(1,[0],[1.0])|\n",
            "| 30|    376|     710|       1|   -1|       0|yes|    1.0| (11,[0],[1.0])|  (2,[1],[1.0])|    (3,[1],[1.0])|  (1,[0],[1.0])|      (1,[],[])|(1,[0],[1.0])|   (3,[0],[1.0])|    (1,[],[])|\n",
            "| 34|     16|     316|       1|  119|       1|yes|    1.0| (11,[0],[1.0])|  (2,[0],[1.0])|    (3,[1],[1.0])|  (1,[0],[1.0])|      (1,[],[])|(1,[0],[1.0])|       (3,[],[])|    (1,[],[])|\n",
            "| 46|    668|    1263|       2|   -1|       0|yes|    1.0| (11,[1],[1.0])|  (2,[0],[1.0])|    (3,[0],[1.0])|  (1,[0],[1.0])|      (1,[],[])|(1,[0],[1.0])|   (3,[0],[1.0])|    (1,[],[])|\n",
            "| 34|    855|     578|       1|   -1|       0|yes|    1.0| (11,[1],[1.0])|  (2,[1],[1.0])|    (3,[0],[1.0])|  (1,[0],[1.0])|      (1,[],[])|(1,[0],[1.0])|   (3,[0],[1.0])|    (1,[],[])|\n",
            "| 29|      2|     220|       1|   -1|       0| no|    0.0| (11,[3],[1.0])|      (2,[],[])|    (3,[0],[1.0])|  (1,[0],[1.0])|  (1,[0],[1.0])|    (1,[],[])|   (3,[0],[1.0])|(1,[0],[1.0])|\n",
            "| 77|    638|     453|       1|   -1|       0|yes|    1.0| (11,[5],[1.0])|  (2,[0],[1.0])|    (3,[0],[1.0])|  (1,[0],[1.0])|  (1,[0],[1.0])|(1,[0],[1.0])|   (3,[0],[1.0])|    (1,[],[])|\n",
            "| 52|    992|     424|       1|  515|       1|yes|    1.0| (11,[4],[1.0])|  (2,[0],[1.0])|    (3,[0],[1.0])|  (1,[0],[1.0])|      (1,[],[])|(1,[0],[1.0])|   (3,[1],[1.0])|    (1,[],[])|\n",
            "+---+-------+--------+--------+-----+--------+---+-------+---------------+---------------+-----------------+---------------+---------------+-------------+----------------+-------------+\n",
            "only showing top 20 rows\n",
            "\n"
          ]
        }
      ]
    },
    {
      "cell_type": "markdown",
      "source": [
        "#SCALING "
      ],
      "metadata": {
        "id": "cwJQznjRfHPQ"
      },
      "id": "cwJQznjRfHPQ"
    },
    {
      "cell_type": "code",
      "source": [
        "encoded.printSchema()"
      ],
      "metadata": {
        "colab": {
          "base_uri": "https://localhost:8080/"
        },
        "id": "7CVhucg256EV",
        "outputId": "38f41c8c-8aed-47e7-b048-aef290babeff"
      },
      "id": "7CVhucg256EV",
      "execution_count": null,
      "outputs": [
        {
          "output_type": "stream",
          "name": "stdout",
          "text": [
            "root\n",
            " |-- age: long (nullable = true)\n",
            " |-- balance: long (nullable = true)\n",
            " |-- duration: long (nullable = true)\n",
            " |-- campaign: long (nullable = true)\n",
            " |-- pdays: long (nullable = true)\n",
            " |-- previous: long (nullable = true)\n",
            " |-- y: string (nullable = true)\n",
            " |-- y_Index: double (nullable = false)\n",
            " |-- job_encoded: vector (nullable = true)\n",
            " |-- marital_encoded: vector (nullable = true)\n",
            " |-- education_encoded: vector (nullable = true)\n",
            " |-- default_encoded: vector (nullable = true)\n",
            " |-- housing_encoded: vector (nullable = true)\n",
            " |-- loan_encoded: vector (nullable = true)\n",
            " |-- poutcome_encoded: vector (nullable = true)\n",
            " |-- y_encoded: vector (nullable = true)\n",
            "\n"
          ]
        }
      ]
    },
    {
      "cell_type": "code",
      "source": [
        "input_cols = [\"balance\",\"duration\",\"pdays\"]\n",
        "output_cols = [col+\"scaled\" for col in input_cols]\n",
        "\n",
        "\n",
        "assembler = VectorAssembler(inputCols=input_cols, outputCol='s_features')\n",
        "encoded = assembler.transform(encoded)\n",
        "\n",
        "scaler = StandardScaler(inputCol=\"s_features\", outputCol=\"scaled_features\",\n",
        "                          withStd=True, withMean=False)\n",
        "scaled = scaler.fit(encoded)\n",
        "encoded = scaled.transform(encoded)\n",
        "\n"
      ],
      "metadata": {
        "id": "sFLf5_fUfLYH"
      },
      "id": "sFLf5_fUfLYH",
      "execution_count": null,
      "outputs": []
    },
    {
      "cell_type": "code",
      "source": [
        "encoded.show(5)"
      ],
      "metadata": {
        "colab": {
          "base_uri": "https://localhost:8080/"
        },
        "id": "G7_JDrsx9Nt0",
        "outputId": "5c8f2c10-6190-456f-8327-9ac73d69d3fb"
      },
      "id": "G7_JDrsx9Nt0",
      "execution_count": null,
      "outputs": [
        {
          "output_type": "stream",
          "name": "stdout",
          "text": [
            "+---+-------+--------+--------+-----+--------+---+-------+---------------+---------------+-----------------+---------------+---------------+-------------+----------------+-------------+-------------------+--------------------+\n",
            "|age|balance|duration|campaign|pdays|previous|  y|y_Index|    job_encoded|marital_encoded|education_encoded|default_encoded|housing_encoded| loan_encoded|poutcome_encoded|    y_encoded|         s_features|     scaled_features|\n",
            "+---+-------+--------+--------+-----+--------+---+-------+---------------+---------------+-----------------+---------------+---------------+-------------+----------------+-------------+-------------------+--------------------+\n",
            "| 67|   5275|     222|       4|   -1|       0|yes|    1.0|(11,[10],[1.0])|      (2,[],[])|    (3,[0],[1.0])|  (1,[0],[1.0])|  (1,[0],[1.0])|(1,[0],[1.0])|   (3,[0],[1.0])|    (1,[],[])|[5275.0,222.0,-1.0]|[1.52399583141426...|\n",
            "| 34|    545|      96|       4|   -1|       0| no|    0.0| (11,[2],[1.0])|  (2,[0],[1.0])|    (3,[0],[1.0])|  (1,[0],[1.0])|      (1,[],[])|(1,[0],[1.0])|   (3,[0],[1.0])|(1,[0],[1.0])|  [545.0,96.0,-1.0]|[0.15745549348261...|\n",
            "| 29|   1579|     190|       1|   92|       5|yes|    1.0| (11,[7],[1.0])|  (2,[1],[1.0])|    (3,[1],[1.0])|  (1,[0],[1.0])|  (1,[0],[1.0])|(1,[0],[1.0])|   (3,[2],[1.0])|    (1,[],[])|[1579.0,190.0,92.0]|[0.45618756735604...|\n",
            "| 36|    366|    1133|       2|   -1|       0|yes|    1.0| (11,[1],[1.0])|  (2,[1],[1.0])|    (3,[0],[1.0])|  (1,[0],[1.0])|      (1,[],[])|    (1,[],[])|   (3,[0],[1.0])|    (1,[],[])|[366.0,1133.0,-1.0]|[0.10574075342135...|\n",
            "| 81|    949|     188|       2|  280|       1|yes|    1.0| (11,[5],[1.0])|      (2,[],[])|    (3,[2],[1.0])|  (1,[0],[1.0])|  (1,[0],[1.0])|(1,[0],[1.0])|       (3,[],[])|    (1,[],[])|[949.0,188.0,280.0]|[0.27417479507339...|\n",
            "+---+-------+--------+--------+-----+--------+---+-------+---------------+---------------+-----------------+---------------+---------------+-------------+----------------+-------------+-------------------+--------------------+\n",
            "only showing top 5 rows\n",
            "\n"
          ]
        }
      ]
    },
    {
      "cell_type": "code",
      "source": [
        "# Feature and Target\n",
        "unwanted = [\"balance\",\"duration\",\"pdays\",\"y_encoded\",\"y\",\"s_features\"]\n",
        "\n",
        "for col in unwanted:\n",
        "    features = encoded.drop(col)\n",
        "    encoded = features\n",
        "features.show(2)"
      ],
      "metadata": {
        "colab": {
          "base_uri": "https://localhost:8080/"
        },
        "id": "4Wm0O6xt2Bri",
        "outputId": "089387a7-0e60-4b51-b40c-3a4ef478f78d"
      },
      "id": "4Wm0O6xt2Bri",
      "execution_count": null,
      "outputs": [
        {
          "output_type": "stream",
          "name": "stdout",
          "text": [
            "+---+--------+--------+-------+---------------+---------------+-----------------+---------------+---------------+-------------+----------------+--------------------+\n",
            "|age|campaign|previous|y_Index|    job_encoded|marital_encoded|education_encoded|default_encoded|housing_encoded| loan_encoded|poutcome_encoded|     scaled_features|\n",
            "+---+--------+--------+-------+---------------+---------------+-----------------+---------------+---------------+-------------+----------------+--------------------+\n",
            "| 67|       4|       0|    1.0|(11,[10],[1.0])|      (2,[],[])|    (3,[0],[1.0])|  (1,[0],[1.0])|  (1,[0],[1.0])|(1,[0],[1.0])|   (3,[0],[1.0])|[1.52399583141426...|\n",
            "| 34|       4|       0|    0.0| (11,[2],[1.0])|  (2,[0],[1.0])|    (3,[0],[1.0])|  (1,[0],[1.0])|      (1,[],[])|(1,[0],[1.0])|   (3,[0],[1.0])|[0.15745549348261...|\n",
            "+---+--------+--------+-------+---------------+---------------+-----------------+---------------+---------------+-------------+----------------+--------------------+\n",
            "only showing top 2 rows\n",
            "\n"
          ]
        }
      ]
    },
    {
      "cell_type": "code",
      "source": [
        "encoded.columns\n",
        "combined = ['age','campaign','previous','job_encoded','marital_encoded','education_encoded','default_encoded','housing_encoded','loan_encoded','poutcome_encoded','scaled_features']"
      ],
      "metadata": {
        "id": "eQnV449--cd8"
      },
      "id": "eQnV449--cd8",
      "execution_count": null,
      "outputs": []
    },
    {
      "cell_type": "markdown",
      "source": [
        "# SPLITTING TRAIN-TEST DATA"
      ],
      "metadata": {
        "id": "3u2Wcm6ZdgOD"
      },
      "id": "3u2Wcm6ZdgOD"
    },
    {
      "cell_type": "code",
      "source": [
        "\n",
        "# Split the data into training and testing sets\n",
        "train_data, test_data = encoded.randomSplit([0.7, 0.3], seed=42)\n",
        "\n",
        "# Combine all features into one Vector\n",
        "assembler = VectorAssembler(inputCols=combined, outputCol='all_features')\n",
        "\n",
        "train_data = assembler.transform(train_data)\n",
        "test_data = assembler.transform(test_data)\n",
        "\n",
        "train_data.printSchema()"
      ],
      "metadata": {
        "colab": {
          "base_uri": "https://localhost:8080/"
        },
        "id": "AN-Mcg2-wmcS",
        "outputId": "76dc944e-cfdf-49a3-b3b6-c7a1fee4bf42"
      },
      "id": "AN-Mcg2-wmcS",
      "execution_count": null,
      "outputs": [
        {
          "output_type": "stream",
          "name": "stdout",
          "text": [
            "root\n",
            " |-- age: long (nullable = true)\n",
            " |-- campaign: long (nullable = true)\n",
            " |-- previous: long (nullable = true)\n",
            " |-- y_Index: double (nullable = false)\n",
            " |-- job_encoded: vector (nullable = true)\n",
            " |-- marital_encoded: vector (nullable = true)\n",
            " |-- education_encoded: vector (nullable = true)\n",
            " |-- default_encoded: vector (nullable = true)\n",
            " |-- housing_encoded: vector (nullable = true)\n",
            " |-- loan_encoded: vector (nullable = true)\n",
            " |-- poutcome_encoded: vector (nullable = true)\n",
            " |-- scaled_features: vector (nullable = true)\n",
            " |-- all_features: vector (nullable = true)\n",
            "\n"
          ]
        }
      ]
    },
    {
      "cell_type": "code",
      "source": [],
      "metadata": {
        "id": "b-yaH4RN3SOl"
      },
      "id": "b-yaH4RN3SOl",
      "execution_count": null,
      "outputs": []
    },
    {
      "cell_type": "markdown",
      "source": [
        "# Modelization"
      ],
      "metadata": {
        "id": "qFk5d7pteCNA"
      },
      "id": "qFk5d7pteCNA"
    },
    {
      "cell_type": "code",
      "source": [
        "# Declaration of model\n",
        "lr = LogisticRegression(featuresCol=\"all_features\", labelCol=\"y_Index\", maxIter=100,threshold=0.5)\n",
        "\n",
        "# Model Training\n",
        "lr_model = lr.fit(train_data)"
      ],
      "metadata": {
        "id": "k1pB7-8PG_Qy"
      },
      "id": "k1pB7-8PG_Qy",
      "execution_count": null,
      "outputs": []
    },
    {
      "cell_type": "code",
      "source": [
        "# Predictions\n",
        "predictions = lr_model.transform(test_data)\n",
        "\n",
        "# Evaluate the model using a binary classification evaluator\n",
        "evaluator = BinaryClassificationEvaluator(labelCol=\"y_Index\", rawPredictionCol=\"rawPrediction\", metricName=\"areaUnderROC\")\n",
        "accuracy = evaluator.evaluate(predictions)\n",
        "\n",
        "# Print the accuracy\n",
        "print(\"Accuracy: {:.2f}%\".format(accuracy * 100))"
      ],
      "metadata": {
        "colab": {
          "base_uri": "https://localhost:8080/"
        },
        "id": "-WFqCi4wIW1b",
        "outputId": "bb165310-4186-4b0f-e572-eafacd5c4e1a"
      },
      "id": "-WFqCi4wIW1b",
      "execution_count": null,
      "outputs": [
        {
          "output_type": "stream",
          "name": "stdout",
          "text": [
            "Accuracy: 89.08%\n"
          ]
        }
      ]
    },
    {
      "cell_type": "code",
      "source": [],
      "metadata": {
        "id": "X95eOnEoIW4E"
      },
      "id": "X95eOnEoIW4E",
      "execution_count": null,
      "outputs": []
    },
    {
      "cell_type": "code",
      "source": [
        "from pyspark.ml.evaluation import MulticlassClassificationEvaluator\n",
        "predictions.show()\n",
        "evaluator = MulticlassClassificationEvaluator(labelCol=\"y_Index\", predictionCol=\"prediction\")\n",
        "\n",
        "# Compute the confusion matrix\n",
        "confusion_matrix = predictions.groupBy(\"y_Index\", \"prediction\").count().orderBy(\"y_Index\", \"prediction\")\n",
        "\n",
        "# Print the confusion matrix\n",
        "confusion_matrix.show()\n"
      ],
      "metadata": {
        "colab": {
          "base_uri": "https://localhost:8080/"
        },
        "id": "borfuC14IXKB",
        "outputId": "cf0a37c7-acda-467b-985c-c03c5fd84404"
      },
      "id": "borfuC14IXKB",
      "execution_count": null,
      "outputs": [
        {
          "output_type": "stream",
          "name": "stdout",
          "text": [
            "+---+--------+--------+-------+--------------+---------------+-----------------+---------------+---------------+-------------+----------------+--------------------+--------------------+--------------------+--------------------+----------+\n",
            "|age|campaign|previous|y_Index|   job_encoded|marital_encoded|education_encoded|default_encoded|housing_encoded| loan_encoded|poutcome_encoded|     scaled_features|        all_features|       rawPrediction|         probability|prediction|\n",
            "+---+--------+--------+-------+--------------+---------------+-----------------+---------------+---------------+-------------+----------------+--------------------+--------------------+--------------------+--------------------+----------+\n",
            "| 18|       4|       0|    1.0|(11,[6],[1.0])|  (2,[1],[1.0])|        (3,[],[])|  (1,[0],[1.0])|  (1,[0],[1.0])|(1,[0],[1.0])|   (3,[0],[1.0])|[0.10054038849898...|(28,[0,1,9,15,19,...|[-1.1216769005214...|[0.24570036821887...|       1.0|\n",
            "| 19|       1|       3|    0.0|(11,[6],[1.0])|  (2,[1],[1.0])|    (3,[0],[1.0])|  (1,[0],[1.0])|  (1,[0],[1.0])|(1,[0],[1.0])|   (3,[1],[1.0])|[0.15196621939789...|(28,[0,1,2,9,15,1...|[-0.8155856676932...|[0.30670150272307...|       1.0|\n",
            "| 19|       3|       0|    1.0|(11,[6],[1.0])|  (2,[1],[1.0])|    (3,[0],[1.0])|  (1,[0],[1.0])|  (1,[0],[1.0])|(1,[0],[1.0])|   (3,[0],[1.0])|[0.11383020996724...|(28,[0,1,9,15,16,...|[-0.7283655995449...|[0.32555348776605...|       1.0|\n",
            "| 19|       4|       0|    1.0|(11,[6],[1.0])|  (2,[1],[1.0])|        (3,[],[])|  (1,[0],[1.0])|  (1,[0],[1.0])|(1,[0],[1.0])|   (3,[0],[1.0])|[0.22506023747331...|(28,[0,1,9,15,19,...|[0.24814353732942...|[0.56171950953073...|       0.0|\n",
            "| 20|       1|       0|    0.0|(11,[6],[1.0])|  (2,[1],[1.0])|    (3,[0],[1.0])|  (1,[0],[1.0])|  (1,[0],[1.0])|(1,[0],[1.0])|   (3,[0],[1.0])|[0.48565630191609...|(28,[0,1,9,15,16,...|[0.05812385745571...|[0.51452687481551...|       0.0|\n",
            "| 20|       1|       0|    1.0|(11,[1],[1.0])|  (2,[1],[1.0])|    (3,[0],[1.0])|  (1,[0],[1.0])|      (1,[],[])|(1,[0],[1.0])|   (3,[0],[1.0])|[0.12220857567549...|(28,[0,1,4,15,16,...|[0.13664319283776...|[0.53410774487881...|       0.0|\n",
            "| 20|       2|       0|    0.0|(11,[6],[1.0])|  (2,[1],[1.0])|        (3,[],[])|  (1,[0],[1.0])|  (1,[0],[1.0])|(1,[0],[1.0])|   (3,[0],[1.0])|[2.55973517845126...|(28,[0,1,9,15,19,...|[0.35057131263351...|[0.58675611388343...|       0.0|\n",
            "| 20|       2|       0|    1.0|(11,[6],[1.0])|  (2,[1],[1.0])|        (3,[],[])|  (1,[0],[1.0])|  (1,[0],[1.0])|(1,[0],[1.0])|   (3,[0],[1.0])|[0.80461201715426...|(28,[0,1,9,15,19,...|[-0.7892653905491...|[0.31232642607184...|       1.0|\n",
            "| 20|       3|       0|    1.0|(11,[6],[1.0])|  (2,[1],[1.0])|    (3,[0],[1.0])|  (1,[0],[1.0])|  (1,[0],[1.0])|(1,[0],[1.0])|   (3,[0],[1.0])|[0.52552576632086...|(28,[0,1,9,15,16,...|[-0.3164170079086...|[0.42154919779637...|       1.0|\n",
            "| 21|       1|       0|    0.0|(11,[1],[1.0])|  (2,[0],[1.0])|    (3,[0],[1.0])|  (1,[0],[1.0])|      (1,[],[])|(1,[0],[1.0])|   (3,[0],[1.0])|[0.06442674320481...|(28,[0,1,4,14,16,...|[2.39706499545682...|[0.91660322075767...|       0.0|\n",
            "| 21|       1|       0|    1.0|(11,[6],[1.0])|  (2,[1],[1.0])|        (3,[],[])|  (1,[0],[1.0])|  (1,[0],[1.0])|(1,[0],[1.0])|   (3,[0],[1.0])|[0.43509719850424...|(28,[0,1,9,15,19,...|[-0.9681641543639...|[0.27524657637689...|       1.0|\n",
            "| 21|       1|       3|    1.0|(11,[1],[1.0])|  (2,[0],[1.0])|    (3,[2],[1.0])|  (1,[0],[1.0])|      (1,[],[])|    (1,[],[])|   (3,[1],[1.0])|[-0.0496923759247...|(28,[0,1,2,4,14,1...|[1.27979996449313...|[0.78241572403045...|       0.0|\n",
            "| 21|       1|       7|    1.0|(11,[6],[1.0])|  (2,[1],[1.0])|    (3,[0],[1.0])|  (1,[0],[1.0])|  (1,[0],[1.0])|(1,[0],[1.0])|   (3,[2],[1.0])|[0.06211546990598...|(28,[0,1,2,9,15,1...|[-4.4418922973311...|[0.01163663269953...|       1.0|\n",
            "| 21|       2|       0|    0.0|(11,[6],[1.0])|  (2,[1],[1.0])|    (3,[0],[1.0])|  (1,[0],[1.0])|      (1,[],[])|(1,[0],[1.0])|   (3,[0],[1.0])|[0.06702692566599...|(28,[0,1,9,15,16,...|[1.32955718245800...|[0.79076737813990...|       0.0|\n",
            "| 21|       2|       1|    1.0|(11,[6],[1.0])|  (2,[1],[1.0])|    (3,[0],[1.0])|  (1,[0],[1.0])|  (1,[0],[1.0])|(1,[0],[1.0])|   (3,[2],[1.0])|[0.71880599593529...|(28,[0,1,2,9,15,1...|[-5.6358425386972...|[0.00355498704560...|       1.0|\n",
            "| 21|       4|       2|    0.0|(11,[1],[1.0])|  (2,[1],[1.0])|    (3,[0],[1.0])|  (1,[0],[1.0])|  (1,[0],[1.0])|(1,[0],[1.0])|   (3,[2],[1.0])|[0.65437925273048...|(28,[0,1,2,4,15,1...|[-1.7437174019156...|[0.14884137070513...|       1.0|\n",
            "| 21|       5|       0|    1.0|(11,[6],[1.0])|  (2,[1],[1.0])|    (3,[2],[1.0])|  (1,[0],[1.0])|  (1,[0],[1.0])|(1,[0],[1.0])|   (3,[0],[1.0])|[0.12220857567549...|(28,[0,1,9,15,18,...|[1.08377422448944...|[0.74720755558288...|       0.0|\n",
            "| 22|       1|       0|    0.0|(11,[4],[1.0])|  (2,[1],[1.0])|    (3,[0],[1.0])|  (1,[0],[1.0])|  (1,[0],[1.0])|    (1,[],[])|   (3,[0],[1.0])|[0.65669052602931...|(28,[0,1,7,15,16,...|[1.54585944374150...|[0.82431490211392...|       0.0|\n",
            "| 22|       1|       0|    1.0|(11,[3],[1.0])|  (2,[1],[1.0])|    (3,[0],[1.0])|  (1,[0],[1.0])|  (1,[0],[1.0])|(1,[0],[1.0])|   (3,[0],[1.0])|[0.03293564450828...|(28,[0,1,6,15,16,...|[-1.6631029152092...|[0.15934590710978...|       1.0|\n",
            "| 22|       1|       0|    1.0|(11,[4],[1.0])|  (2,[1],[1.0])|    (3,[0],[1.0])|  (1,[0],[1.0])|      (1,[],[])|(1,[0],[1.0])|   (3,[0],[1.0])|[0.09938475184957...|(28,[0,1,7,15,16,...|[0.63746928660257...|[0.65418116555850...|       0.0|\n",
            "+---+--------+--------+-------+--------------+---------------+-----------------+---------------+---------------+-------------+----------------+--------------------+--------------------+--------------------+--------------------+----------+\n",
            "only showing top 20 rows\n",
            "\n",
            "+-------+----------+-----+\n",
            "|y_Index|prediction|count|\n",
            "+-------+----------+-----+\n",
            "|    0.0|       0.0| 1291|\n",
            "|    0.0|       1.0|  256|\n",
            "|    1.0|       0.0|  332|\n",
            "|    1.0|       1.0| 1205|\n",
            "+-------+----------+-----+\n",
            "\n"
          ]
        }
      ]
    }
  ],
  "metadata": {
    "kernelspec": {
      "display_name": "Python 3 (ipykernel)",
      "language": "python",
      "name": "python3"
    },
    "language_info": {
      "codemirror_mode": {
        "name": "ipython",
        "version": 3
      },
      "file_extension": ".py",
      "mimetype": "text/x-python",
      "name": "python",
      "nbconvert_exporter": "python",
      "pygments_lexer": "ipython3",
      "version": "3.9.15"
    },
    "colab": {
      "provenance": [],
      "include_colab_link": true
    }
  },
  "nbformat": 4,
  "nbformat_minor": 5
}